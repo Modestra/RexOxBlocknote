{
 "cells": [
  {
   "cell_type": "code",
   "execution_count": 5,
   "metadata": {},
   "outputs": [
    {
     "data": {
      "text/plain": [
       "{'H': <redox.catalogs.elements.Element at 0x1545951e510>,\n",
       " 'He': <redox.catalogs.elements.Element at 0x1546fdf0910>,\n",
       " 'Li': <redox.catalogs.elements.Element at 0x1546fdf0cd0>,\n",
       " 'Be': <redox.catalogs.elements.Element at 0x1545953f820>,\n",
       " 'B': <redox.catalogs.elements.Element at 0x1546fdcd350>,\n",
       " 'C': <redox.catalogs.elements.Element at 0x1546fdd15b0>,\n",
       " 'N': <redox.catalogs.elements.Element at 0x1546fe006b0>,\n",
       " 'O': <redox.catalogs.elements.Element at 0x1546fe008d0>,\n",
       " 'F': <redox.catalogs.elements.Element at 0x1546fe24750>,\n",
       " 'Ne': <redox.catalogs.elements.Element at 0x1546fe24850>,\n",
       " 'Na': <redox.catalogs.elements.Element at 0x1546fd27d40>}"
      ]
     },
     "execution_count": 5,
     "metadata": {},
     "output_type": "execute_result"
    }
   ],
   "source": [
    "import redox.catalogs.elements as el\n",
    "el.ELEMENTS"
   ]
  }
 ],
 "metadata": {
  "kernelspec": {
   "display_name": "Python 3",
   "language": "python",
   "name": "python3"
  },
  "language_info": {
   "codemirror_mode": {
    "name": "ipython",
    "version": 3
   },
   "file_extension": ".py",
   "mimetype": "text/x-python",
   "name": "python",
   "nbconvert_exporter": "python",
   "pygments_lexer": "ipython3",
   "version": "3.13.0"
  }
 },
 "nbformat": 4,
 "nbformat_minor": 2
}
