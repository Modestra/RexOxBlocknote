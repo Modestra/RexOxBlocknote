{
 "cells": [
  {
   "cell_type": "code",
   "execution_count": 1,
   "metadata": {},
   "outputs": [
    {
     "name": "stdout",
     "output_type": "stream",
     "text": [
      "{'atom': <redox.entities.atom.Atom object at 0x0000022CD6E04690>, 'count': 4}\n"
     ]
    }
   ],
   "source": [
    "from redox.entities.ion import Ion\n",
    "from redox.entities.atom import Atom, AtomList\n",
    "from redox.catalogs.elements import *\n",
    "import json\n",
    "\n",
    "def read_json(_dict: dict): \n",
    "    return json.dumps(_dict, indent=4, sort_keys=True, ensure_ascii=False)\n",
    "\n",
    "ion = Ion(\"S\", 1)\n",
    "atom_list = AtomList(Atom(\"O\"), 4)\n",
    "print(atom_list.__dict__)"
   ]
  }
 ],
 "metadata": {
  "kernelspec": {
   "display_name": ".venv",
   "language": "python",
   "name": "python3"
  },
  "language_info": {
   "codemirror_mode": {
    "name": "ipython",
    "version": 3
   },
   "file_extension": ".py",
   "mimetype": "text/x-python",
   "name": "python",
   "nbconvert_exporter": "python",
   "pygments_lexer": "ipython3",
   "version": "3.13.0"
  }
 },
 "nbformat": 4,
 "nbformat_minor": 2
}
