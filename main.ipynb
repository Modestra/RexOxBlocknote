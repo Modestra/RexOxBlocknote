{
 "cells": [
  {
   "cell_type": "code",
   "execution_count": 2,
   "metadata": {},
   "outputs": [
    {
     "name": "stdout",
     "output_type": "stream",
     "text": [
      "{'symbol': 'Be', 'name': 'Бериллий', 'atom_mass': 9.01218, 'electronegativity': 1.5}\n"
     ]
    }
   ],
   "source": [
    "from redox.entities.ion import Ion\n",
    "from redox.entities.atom import Atom\n",
    "from redox.catalogs.elements import *\n",
    "import redox.catalogs as catalogs\n",
    "import sys, os\n",
    "\n",
    "ion = Ion(\"SO4\", 2)\n",
    "atom = Atom(\"Be\")\n",
    "print(atom)"
   ]
  }
 ],
 "metadata": {
  "kernelspec": {
   "display_name": ".venv",
   "language": "python",
   "name": "python3"
  },
  "language_info": {
   "codemirror_mode": {
    "name": "ipython",
    "version": 3
   },
   "file_extension": ".py",
   "mimetype": "text/x-python",
   "name": "python",
   "nbconvert_exporter": "python",
   "pygments_lexer": "ipython3",
   "version": "3.13.0"
  }
 },
 "nbformat": 4,
 "nbformat_minor": 2
}
